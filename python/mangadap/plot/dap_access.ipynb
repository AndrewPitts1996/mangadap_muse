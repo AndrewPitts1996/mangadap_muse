{
 "cells": [
  {
   "cell_type": "markdown",
   "metadata": {},
   "source": [
    "Let's open a MaNGA DAP FITS file and load it into a DAPAccess object."
   ]
  },
  {
   "cell_type": "code",
   "execution_count": null,
   "metadata": {
    "collapsed": true
   },
   "outputs": [],
   "source": [
    "from __future__ import (division, print_function, absolute_import, unicode_literals)\n",
    "import os\n",
    "import numpy as np\n",
    "import matplotlib.pyplot as plt\n",
    "%matplotlib inline\n",
    "\n",
    "# Useful but not required imports\n",
    "import seaborn as sns\n",
    "import pandas as pd\n",
    "\n",
    "# MaNGA DAP imports\n",
    "from mangadap import dap_access\n",
    "from mangadap.plot import util\n",
    "# from mangadap.plot import plotdap\n",
    "# from mangadap.plot import cfg_io"
   ]
  },
  {
   "cell_type": "markdown",
   "metadata": {},
   "source": [
    "### Specify File Name"
   ]
  },
  {
   "cell_type": "code",
   "execution_count": null,
   "metadata": {
    "collapsed": true
   },
   "outputs": [],
   "source": [
    "# EDIT FILENAME\n",
    "filename = 'manga-7443-1901-LOGCUBE_BIN-NONE-003.fits'\n",
    "\n",
    "# Create a dictionary with identifying information about the FITS file\n",
    "file_kws = util.parse_fits_filename(filename)"
   ]
  },
  {
   "cell_type": "markdown",
   "metadata": {},
   "source": [
    "### Create directory path to DAP FITS file\n",
    "#### Option 1: Your directory structure mirrors the Science Archive Server (SAS) [RECOMMENDED]."
   ]
  },
  {
   "cell_type": "code",
   "execution_count": null,
   "metadata": {
    "collapsed": false
   },
   "outputs": [],
   "source": [
    "path_data = os.path.join(os.getenv('MANGA_SPECTRO_ANALYSIS'),\n",
    "                         os.getenv('MANGADRP_VER'),\n",
    "                         os.getenv('MANGADAP_VER'),\n",
    "                         '{plate}'.format(**file_kws),\n",
    "                         '{ifudesign}'.format(**file_kws))"
   ]
  },
  {
   "cell_type": "markdown",
   "metadata": {},
   "source": [
    "#### Option 2: Specify the path on your local machine."
   ]
  },
  {
   "cell_type": "code",
   "execution_count": null,
   "metadata": {
    "collapsed": true
   },
   "outputs": [],
   "source": [
    "# path_data = 'path/to/data/'"
   ]
  },
  {
   "cell_type": "markdown",
   "metadata": {},
   "source": [
    "### Create DAPAccess object"
   ]
  },
  {
   "cell_type": "code",
   "execution_count": null,
   "metadata": {
    "collapsed": false
   },
   "outputs": [],
   "source": [
    "gal = dap_access.DAPAccess(path_data, file_kws)\n",
    "gal.get_all_ext()"
   ]
  },
  {
   "cell_type": "markdown",
   "metadata": {},
   "source": [
    "### Explore DAPAccess\n",
    "\n",
    "Show emission line flux measurements from Enci Wang's code (first 5 rows of DataFrame):"
   ]
  },
  {
   "cell_type": "code",
   "execution_count": null,
   "metadata": {
    "collapsed": false
   },
   "outputs": [],
   "source": [
    "gal.flux_ew.head()"
   ]
  },
  {
   "cell_type": "markdown",
   "metadata": {},
   "source": [
    "[Description of DAPAccess object](https://trac.sdss.org/wiki/MANGA/TRM/TRM_ActiveDev/dap/DataModel#DAPAccessPythonClass)"
   ]
  },
  {
   "cell_type": "markdown",
   "metadata": {},
   "source": [
    "## Plotting"
   ]
  },
  {
   "cell_type": "markdown",
   "metadata": {},
   "source": [
    "### Quick Plot\n",
    "Make a simple plot from the columns from a DataFrame with [pandas plotting functions](http://pandas-docs.github.io/pandas-docs-travis/visualization.html#scatter-plot)."
   ]
  },
  {
   "cell_type": "code",
   "execution_count": null,
   "metadata": {
    "collapsed": false
   },
   "outputs": [],
   "source": [
    "gal.flux_ew.plot(kind='scatter', x='NII6585', y='OIII5008')"
   ]
  },
  {
   "cell_type": "code",
   "execution_count": null,
   "metadata": {
    "collapsed": true
   },
   "outputs": [],
   "source": []
  }
 ],
 "metadata": {
  "kernelspec": {
   "display_name": "Python 3",
   "language": "python",
   "name": "python3"
  },
  "language_info": {
   "codemirror_mode": {
    "name": "ipython",
    "version": 3
   },
   "file_extension": ".py",
   "mimetype": "text/x-python",
   "name": "python",
   "nbconvert_exporter": "python",
   "pygments_lexer": "ipython3",
   "version": "3.5.0"
  }
 },
 "nbformat": 4,
 "nbformat_minor": 0
}
