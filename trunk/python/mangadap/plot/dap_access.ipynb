{
 "cells": [
  {
   "cell_type": "markdown",
   "metadata": {},
   "source": [
    "Let's open a MaNGA DAP FITS file and load it into a DAPAccess object."
   ]
  },
  {
   "cell_type": "code",
   "execution_count": 30,
   "metadata": {
    "collapsed": false
   },
   "outputs": [],
   "source": [
    "from __future__ import (division, print_function, absolute_import, unicode_literals)\n",
    "import os\n",
    "import copy\n",
    "import numpy as np\n",
    "import matplotlib.pyplot as plt\n",
    "%matplotlib inline\n",
    "\n",
    "# Useful but not required imports\n",
    "import seaborn as sns\n",
    "import pandas as pd\n",
    "\n",
    "# MaNGA DAP imports\n",
    "from mangadap import dap_access\n",
    "from mangadap.plot import util\n",
    "from mangadap.plot import plotdap\n",
    "# from mangadap.plot import cfg_io"
   ]
  },
  {
   "cell_type": "markdown",
   "metadata": {},
   "source": [
    "### Specify File Name"
   ]
  },
  {
   "cell_type": "code",
   "execution_count": 7,
   "metadata": {
    "collapsed": true
   },
   "outputs": [],
   "source": [
    "# EDIT FILENAME\n",
    "filename = 'manga-8082-3702-LOGCUBE_BIN-NONE-003.fits'\n",
    "\n",
    "# Create a dictionary with identifying information about the FITS file\n",
    "file_kws = util.parse_fits_filename(filename)"
   ]
  },
  {
   "cell_type": "markdown",
   "metadata": {},
   "source": [
    "### Create directory path to DAP FITS file\n",
    "#### Option 1: Your directory structure mirrors the Science Archive Server (SAS) [RECOMMENDED]."
   ]
  },
  {
   "cell_type": "code",
   "execution_count": 8,
   "metadata": {
    "collapsed": false
   },
   "outputs": [],
   "source": [
    "path_data = os.path.join(os.getenv('MANGA_SPECTRO_ANALYSIS'),\n",
    "                         os.getenv('MANGADRP_VER'),\n",
    "                         os.getenv('MANGADAP_VER'),\n",
    "                         'full',\n",
    "                         '{plate}'.format(**file_kws),\n",
    "                         '{ifudesign}'.format(**file_kws))"
   ]
  },
  {
   "cell_type": "markdown",
   "metadata": {},
   "source": [
    "#### Option 2: Specify the path on your local machine."
   ]
  },
  {
   "cell_type": "code",
   "execution_count": null,
   "metadata": {
    "collapsed": true
   },
   "outputs": [],
   "source": [
    "# path_data = 'path/to/data/'"
   ]
  },
  {
   "cell_type": "markdown",
   "metadata": {},
   "source": [
    "### Create DAPAccess object"
   ]
  },
  {
   "cell_type": "code",
   "execution_count": 86,
   "metadata": {
    "collapsed": false
   },
   "outputs": [
    {
     "data": {
      "text/plain": [
       "<module 'mangadap.dap_access' from '/Users/andrews/manga/mangadap/trunk/python/mangadap/dap_access.py'>"
      ]
     },
     "execution_count": 86,
     "metadata": {},
     "output_type": "execute_result"
    }
   ],
   "source": [
    "from imp import reload\n",
    "from mangadap import dap_access\n",
    "reload(dap_access)"
   ]
  },
  {
   "cell_type": "code",
   "execution_count": 89,
   "metadata": {
    "collapsed": false
   },
   "outputs": [
    {
     "name": "stdout",
     "output_type": "stream",
     "text": [
      "0.09497308731079102\n",
      "\n",
      "Read manga-8082-3702-LOGCUBE_BIN-NONE-003.fits\n"
     ]
    }
   ],
   "source": [
    "gal = dap_access.DAPAccess(path_data, file_kws)\n",
    "# gal.get_all_ext()\n",
    "gal.get_elopar()\n",
    "gal.get_elofit()"
   ]
  },
  {
   "cell_type": "code",
   "execution_count": 84,
   "metadata": {
    "collapsed": false
   },
   "outputs": [
    {
     "data": {
      "text/plain": [
       "(1764,)"
      ]
     },
     "execution_count": 84,
     "metadata": {},
     "output_type": "execute_result"
    }
   ],
   "source": [
    "gal.fits.hdu[1].data.shape"
   ]
  },
  {
   "cell_type": "markdown",
   "metadata": {},
   "source": [
    "### Explore DAPAccess\n",
    "\n",
    "Show emission line flux measurements from Enci Wang's code (first 5 rows of DataFrame):"
   ]
  },
  {
   "cell_type": "code",
   "execution_count": 10,
   "metadata": {
    "collapsed": false
   },
   "outputs": [
    {
     "data": {
      "text/html": [
       "<div>\n",
       "<table border=\"1\" class=\"dataframe\">\n",
       "  <thead>\n",
       "    <tr style=\"text-align: right;\">\n",
       "      <th></th>\n",
       "      <th>OII3727</th>\n",
       "      <th>OII3729</th>\n",
       "      <th>OIId3728</th>\n",
       "      <th>Hb4862</th>\n",
       "      <th>OIII4960</th>\n",
       "      <th>OIII5008</th>\n",
       "      <th>OI6302</th>\n",
       "      <th>OI6365</th>\n",
       "      <th>NII6549</th>\n",
       "      <th>Ha6564</th>\n",
       "      <th>NII6585</th>\n",
       "      <th>SII6718</th>\n",
       "      <th>SII6732</th>\n",
       "      <th>OIIsum</th>\n",
       "    </tr>\n",
       "  </thead>\n",
       "  <tbody>\n",
       "    <tr>\n",
       "      <th>0</th>\n",
       "      <td>3.945313</td>\n",
       "      <td>2.044017</td>\n",
       "      <td>6.129942</td>\n",
       "      <td>2.663977</td>\n",
       "      <td>0.453682</td>\n",
       "      <td>2.022711</td>\n",
       "      <td>0.598785</td>\n",
       "      <td>0.295167</td>\n",
       "      <td>0.837162</td>\n",
       "      <td>7.393376</td>\n",
       "      <td>1.997700</td>\n",
       "      <td>2.324448</td>\n",
       "      <td>1.803635</td>\n",
       "      <td>5.989329</td>\n",
       "    </tr>\n",
       "    <tr>\n",
       "      <th>1</th>\n",
       "      <td>4.149444</td>\n",
       "      <td>2.281364</td>\n",
       "      <td>6.623748</td>\n",
       "      <td>2.874567</td>\n",
       "      <td>0.501211</td>\n",
       "      <td>2.011203</td>\n",
       "      <td>0.469477</td>\n",
       "      <td>0.256208</td>\n",
       "      <td>0.736743</td>\n",
       "      <td>7.497330</td>\n",
       "      <td>2.153030</td>\n",
       "      <td>2.282795</td>\n",
       "      <td>1.722582</td>\n",
       "      <td>6.430808</td>\n",
       "    </tr>\n",
       "    <tr>\n",
       "      <th>2</th>\n",
       "      <td>2.546117</td>\n",
       "      <td>3.129999</td>\n",
       "      <td>5.928649</td>\n",
       "      <td>2.575207</td>\n",
       "      <td>0.434687</td>\n",
       "      <td>1.922536</td>\n",
       "      <td>0.602685</td>\n",
       "      <td>0.261995</td>\n",
       "      <td>0.729043</td>\n",
       "      <td>7.321875</td>\n",
       "      <td>1.869035</td>\n",
       "      <td>2.301779</td>\n",
       "      <td>1.793199</td>\n",
       "      <td>5.676117</td>\n",
       "    </tr>\n",
       "    <tr>\n",
       "      <th>3</th>\n",
       "      <td>3.152176</td>\n",
       "      <td>3.316670</td>\n",
       "      <td>6.665478</td>\n",
       "      <td>2.795853</td>\n",
       "      <td>0.483905</td>\n",
       "      <td>1.932582</td>\n",
       "      <td>0.378297</td>\n",
       "      <td>0.195369</td>\n",
       "      <td>0.615931</td>\n",
       "      <td>7.461363</td>\n",
       "      <td>2.131289</td>\n",
       "      <td>2.192092</td>\n",
       "      <td>1.478974</td>\n",
       "      <td>6.468846</td>\n",
       "    </tr>\n",
       "    <tr>\n",
       "      <th>4</th>\n",
       "      <td>2.547319</td>\n",
       "      <td>2.844404</td>\n",
       "      <td>5.629627</td>\n",
       "      <td>2.504241</td>\n",
       "      <td>0.498280</td>\n",
       "      <td>2.075499</td>\n",
       "      <td>0.753843</td>\n",
       "      <td>0.126609</td>\n",
       "      <td>0.726008</td>\n",
       "      <td>7.349393</td>\n",
       "      <td>1.752187</td>\n",
       "      <td>2.334934</td>\n",
       "      <td>1.652687</td>\n",
       "      <td>5.391724</td>\n",
       "    </tr>\n",
       "  </tbody>\n",
       "</table>\n",
       "</div>"
      ],
      "text/plain": [
       "    OII3727   OII3729  OIId3728    Hb4862  OIII4960  OIII5008    OI6302  \\\n",
       "0  3.945313  2.044017  6.129942  2.663977  0.453682  2.022711  0.598785   \n",
       "1  4.149444  2.281364  6.623748  2.874567  0.501211  2.011203  0.469477   \n",
       "2  2.546117  3.129999  5.928649  2.575207  0.434687  1.922536  0.602685   \n",
       "3  3.152176  3.316670  6.665478  2.795853  0.483905  1.932582  0.378297   \n",
       "4  2.547319  2.844404  5.629627  2.504241  0.498280  2.075499  0.753843   \n",
       "\n",
       "     OI6365   NII6549    Ha6564   NII6585   SII6718   SII6732    OIIsum  \n",
       "0  0.295167  0.837162  7.393376  1.997700  2.324448  1.803635  5.989329  \n",
       "1  0.256208  0.736743  7.497330  2.153030  2.282795  1.722582  6.430808  \n",
       "2  0.261995  0.729043  7.321875  1.869035  2.301779  1.793199  5.676117  \n",
       "3  0.195369  0.615931  7.461363  2.131289  2.192092  1.478974  6.468846  \n",
       "4  0.126609  0.726008  7.349393  1.752187  2.334934  1.652687  5.391724  "
      ]
     },
     "execution_count": 10,
     "metadata": {},
     "output_type": "execute_result"
    }
   ],
   "source": [
    "gal.flux_ew.head()"
   ]
  },
  {
   "cell_type": "markdown",
   "metadata": {},
   "source": [
    "[Description of DAPAccess object](https://trac.sdss.org/wiki/MANGA/TRM/TRM_ActiveDev/dap/DataModel#DAPAccessPythonClass)"
   ]
  },
  {
   "cell_type": "markdown",
   "metadata": {},
   "source": [
    "## Plotting"
   ]
  },
  {
   "cell_type": "markdown",
   "metadata": {},
   "source": [
    "### Quick Plot\n",
    "Make a simple plot from the columns from a DataFrame with [pandas plotting functions](http://pandas.pydata.org/pandas-docs/stable/visualization.html)."
   ]
  },
  {
   "cell_type": "code",
   "execution_count": 11,
   "metadata": {
    "collapsed": true
   },
   "outputs": [
    {
     "data": {
      "text/plain": [
       "<matplotlib.axes._subplots.AxesSubplot at 0x11b593860>"
      ]
     },
     "execution_count": 11,
     "metadata": {},
     "output_type": "execute_result"
    },
    {
     "data": {
      "image/png": "[encoded data removed]",
      "text/plain": [
       "<matplotlib.figure.Figure at 0x11b5930b8>"
      ]
     },
     "metadata": {},
     "output_type": "display_data"
    }
   ],
   "source": [
    "gal.flux_ew.plot(kind='scatter', x='NII6585', y='OIII5008')"
   ]
  },
  {
   "cell_type": "code",
   "execution_count": 90,
   "metadata": {
    "collapsed": false
   },
   "outputs": [],
   "source": [
    "mg_kws = copy.deepcopy(file_kws)\n",
    "mg_kws['mangaid'] = 'N/A'\n",
    "mg_kws['plateifu'] = '{plate}-{ifudesign}'.format(**mg_kws)\n",
    "titles=pd.Series(['Ha'], index=['Ha6564'])\n",
    "cb_kws_master = dict(n_ticks=7)\n",
    "main = False\n",
    "make_multi = False\n",
    "maps_kws = dict(titles=titles, mg_kws=mg_kws, cb_kws_master=cb_kws_master, main=main, make_multi=make_multi)"
   ]
  },
  {
   "cell_type": "code",
   "execution_count": 91,
   "metadata": {
    "collapsed": false
   },
   "outputs": [
    {
     "ename": "AttributeError",
     "evalue": "'DAPAccess' object has no attribute 'drps'",
     "output_type": "error",
     "traceback": [
      "\u001b[0;31m---------------------------------------------------------------------------\u001b[0m",
      "\u001b[0;31mAttributeError\u001b[0m                            Traceback (most recent call last)",
      "\u001b[0;32m<ipython-input-91-5b7043644a59>\u001b[0m in \u001b[0;36m<module>\u001b[0;34m()\u001b[0m\n\u001b[0;32m----> 1\u001b[0;31m \u001b[0mplotdap\u001b[0m\u001b[0;34m.\u001b[0m\u001b[0mplot_maps\u001b[0m\u001b[0;34m(\u001b[0m\u001b[0mcolumns\u001b[0m\u001b[0;34m=\u001b[0m\u001b[0;34m[\u001b[0m\u001b[0;34m'Ha6564'\u001b[0m\u001b[0;34m]\u001b[0m\u001b[0;34m,\u001b[0m \u001b[0mvalues\u001b[0m\u001b[0;34m=\u001b[0m\u001b[0;34m'flux_ew'\u001b[0m\u001b[0;34m,\u001b[0m \u001b[0merrors\u001b[0m\u001b[0;34m=\u001b[0m\u001b[0;34m'fluxerr_ew'\u001b[0m\u001b[0;34m,\u001b[0m \u001b[0mdapdata\u001b[0m\u001b[0;34m=\u001b[0m\u001b[0mgal\u001b[0m\u001b[0;34m,\u001b[0m \u001b[0;34m**\u001b[0m\u001b[0mmaps_kws\u001b[0m\u001b[0;34m)\u001b[0m\u001b[0;34m\u001b[0m\u001b[0m\n\u001b[0m",
      "\u001b[0;32m/Users/andrews/manga/mangadap/trunk/python/mangadap/plot/plotdap.py\u001b[0m in \u001b[0;36mplot_maps\u001b[0;34m(columns, values, errors, spaxel_size, dapdata, val_no_measure, snr_thresh, mg_kws, titles, cb_kws_master, main, make_single, make_multi, make_binnum, savefig_single, savefig_multi, savefig_binnum, savedir, overwrite)\u001b[0m\n\u001b[1;32m    783\u001b[0m \u001b[0;34m\u001b[0m\u001b[0m\n\u001b[1;32m    784\u001b[0m     \u001b[0;31m# Set common plot elements\u001b[0m\u001b[0;34m\u001b[0m\u001b[0;34m\u001b[0m\u001b[0m\n\u001b[0;32m--> 785\u001b[0;31m     \u001b[0mxpos\u001b[0m \u001b[0;34m=\u001b[0m \u001b[0mdapdata\u001b[0m\u001b[0;34m.\u001b[0m\u001b[0mdrps\u001b[0m\u001b[0;34m.\u001b[0m\u001b[0mxpos\u001b[0m\u001b[0;34m.\u001b[0m\u001b[0mvalues\u001b[0m\u001b[0;34m\u001b[0m\u001b[0m\n\u001b[0m\u001b[1;32m    786\u001b[0m     \u001b[0mypos\u001b[0m \u001b[0;34m=\u001b[0m \u001b[0mdapdata\u001b[0m\u001b[0;34m.\u001b[0m\u001b[0mdrps\u001b[0m\u001b[0;34m.\u001b[0m\u001b[0mypos\u001b[0m\u001b[0;34m.\u001b[0m\u001b[0mvalues\u001b[0m\u001b[0;34m\u001b[0m\u001b[0m\n\u001b[1;32m    787\u001b[0m     \u001b[0mbinid\u001b[0m \u001b[0;34m=\u001b[0m \u001b[0m_reorient\u001b[0m\u001b[0;34m(\u001b[0m\u001b[0mdapdata\u001b[0m\u001b[0;34m.\u001b[0m\u001b[0mdrps\u001b[0m\u001b[0;34m.\u001b[0m\u001b[0mbinid\u001b[0m\u001b[0;34m.\u001b[0m\u001b[0mvalues\u001b[0m\u001b[0;34m)\u001b[0m\u001b[0;34m\u001b[0m\u001b[0m\n",
      "\u001b[0;31mAttributeError\u001b[0m: 'DAPAccess' object has no attribute 'drps'"
     ]
    }
   ],
   "source": [
    "plotdap.plot_maps(columns=['Ha6564'], values='flux_ew', errors='fluxerr_ew', dapdata=gal, **maps_kws)"
   ]
  },
  {
   "cell_type": "code",
   "execution_count": 55,
   "metadata": {
    "collapsed": false
   },
   "outputs": [
    {
     "ename": "AttributeError",
     "evalue": "'numpy.ndarray' object has no attribute 'head'",
     "output_type": "error",
     "traceback": [
      "\u001b[0;31m---------------------------------------------------------------------------\u001b[0m",
      "\u001b[0;31mAttributeError\u001b[0m                            Traceback (most recent call last)",
      "\u001b[0;32m<ipython-input-55-61d4d3f1a934>\u001b[0m in \u001b[0;36m<module>\u001b[0;34m()\u001b[0m\n\u001b[0;32m----> 1\u001b[0;31m \u001b[0mgal\u001b[0m\u001b[0;34m.\u001b[0m\u001b[0melomew\u001b[0m\u001b[0;34m.\u001b[0m\u001b[0mhead\u001b[0m\u001b[0;34m\u001b[0m\u001b[0m\n\u001b[0m",
      "\u001b[0;31mAttributeError\u001b[0m: 'numpy.ndarray' object has no attribute 'head'"
     ]
    }
   ],
   "source": [
    "gal.elomew.head"
   ]
  },
  {
   "cell_type": "code",
   "execution_count": null,
   "metadata": {
    "collapsed": true
   },
   "outputs": [],
   "source": []
  }
 ],
 "metadata": {
  "kernelspec": {
   "display_name": "Python 3",
   "language": "python",
   "name": "python3"
  },
  "language_info": {
   "codemirror_mode": {
    "name": "ipython",
    "version": 3
   },
   "file_extension": ".py",
   "mimetype": "text/x-python",
   "name": "python",
   "nbconvert_exporter": "python",
   "pygments_lexer": "ipython3",
   "version": "3.4.3"
  }
 },
 "nbformat": 4,
 "nbformat_minor": 0
}
